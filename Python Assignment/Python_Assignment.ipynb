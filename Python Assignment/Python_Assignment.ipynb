{
  "nbformat": 4,
  "nbformat_minor": 0,
  "metadata": {
    "colab": {
      "provenance": []
    },
    "kernelspec": {
      "name": "python3",
      "display_name": "Python 3"
    },
    "language_info": {
      "name": "python"
    }
  },
  "cells": [
    {
      "cell_type": "code",
      "execution_count": null,
      "metadata": {
        "id": "ARXhk8DZU3k_"
      },
      "outputs": [],
      "source": []
    },
    {
      "cell_type": "markdown",
      "source": [
        "1) What are the types of Applications?\n",
        "\n",
        "Answer : Python is known for its general-purpose nature that makes it applicable in almost every domain of software development. Python makes its presence in every emerging field. It is the fastest-growing programming language and can develop any application.\n",
        "Below are some specified application areas where Python can be applied\n",
        "1)Web Application\n",
        "2)Desktop GUI Application\n",
        "3)Console based Application\n",
        "4)Software Development\n",
        "5)Business Application\n",
        "6)Audio or video base Application\n",
        "7)3D CAD Application\n",
        "8)Enterprise Application\n",
        "9)Image processing Application\n",
        "10)Scientific and Numeric Application"
      ],
      "metadata": {
        "id": "vOHx1wtUVtGV"
      }
    },
    {
      "cell_type": "code",
      "source": [],
      "metadata": {
        "id": "OkHgOrieW57j"
      },
      "execution_count": null,
      "outputs": []
    },
    {
      "cell_type": "markdown",
      "source": [
        "2) What is programing?\n",
        "\n",
        "Answer: Programming, also known as coding, is the process of creating a set of instructions that a computer can follow to perform specific tasks or solve problems. These instructions are written in a programming language, which is a formal language comprising a set of syntax and rules that allows humans to communicate with computers.\n",
        "Here are some key aspects of programming:\n",
        "1) Writing Code\n",
        "2) Solving Problems\n",
        "3) Algorithms\n",
        "4) Debugging and Testing\n",
        "5) Using Tools and Environments\n",
        "6) Creating Software\n",
        "7) Learning and Adapting\n",
        "8) Logical and Analytical Thinking\n",
        "\n",
        "In essence, programming is the art and science of translating human intentions into a form that computers can understand and execute, enabling the creation of diverse and powerful applications that drive modern technology."
      ],
      "metadata": {
        "id": "nKyqXT9TXAc_"
      }
    },
    {
      "cell_type": "code",
      "source": [],
      "metadata": {
        "id": "3YyxaHYjXB1j"
      },
      "execution_count": null,
      "outputs": []
    },
    {
      "cell_type": "markdown",
      "source": [
        "3) What is Python?\n",
        "\n",
        "Answer: Python is a high level, general purpose, versatile, interpreted, dynamic, object oriented programming language that has simplicity and readability.\n",
        "\n",
        "It was created by Guido Van Rossum and first released in 1991.\n",
        "\n",
        "Python has become one of the most popular and versatile programming languages known for its clean syntax and easy to learn in nature."
      ],
      "metadata": {
        "id": "q6x-X9dcZGuh"
      }
    },
    {
      "cell_type": "code",
      "source": [],
      "metadata": {
        "id": "CuHYMCRrZ5uw"
      },
      "execution_count": null,
      "outputs": []
    },
    {
      "cell_type": "markdown",
      "source": [
        "4) Write a Python program to check if a number is positive, negative or\n",
        "zero."
      ],
      "metadata": {
        "id": "bEmxRcQfZ-qI"
      }
    },
    {
      "cell_type": "code",
      "source": [
        "num1 = int(input(\"Enter a Number\"))\n",
        "if num1 > 0:\n",
        "  print(\"Number is Positive\")\n",
        "elif num1 < 0:\n",
        "  print(\"Number is Negative\")\n",
        "else:\n",
        "  print(\"Number is Zero\")"
      ],
      "metadata": {
        "colab": {
          "base_uri": "https://localhost:8080/"
        },
        "id": "QiRFsT9NbU5e",
        "outputId": "da7dcf17-bcc9-4315-9e65-3541484e38fb"
      },
      "execution_count": 4,
      "outputs": [
        {
          "output_type": "stream",
          "name": "stdout",
          "text": [
            "Enter a Number6\n",
            "Number is Positive\n"
          ]
        }
      ]
    },
    {
      "cell_type": "code",
      "source": [],
      "metadata": {
        "id": "V_kFLQQ7cf44"
      },
      "execution_count": null,
      "outputs": []
    },
    {
      "cell_type": "markdown",
      "source": [
        "5) Write a Python program to get the Factorial number of given numbers"
      ],
      "metadata": {
        "id": "UtV6Q5NSco5w"
      }
    },
    {
      "cell_type": "code",
      "source": [
        "import math\n",
        "number_1 = int(input(\"Enter a number\"))\n",
        "factorial = math.factorial(number_1)\n",
        "print(\"the factorial of\", number_1, \"is\", factorial)"
      ],
      "metadata": {
        "colab": {
          "base_uri": "https://localhost:8080/"
        },
        "id": "uKfJwdZ5cp23",
        "outputId": "a41df23a-de78-482a-9184-8ff63587a1bf"
      },
      "execution_count": 5,
      "outputs": [
        {
          "output_type": "stream",
          "name": "stdout",
          "text": [
            "Enter a number6\n",
            "the factorial of 6 is 720\n"
          ]
        }
      ]
    },
    {
      "cell_type": "code",
      "source": [],
      "metadata": {
        "id": "Q_ASSIMSdjpT"
      },
      "execution_count": null,
      "outputs": []
    },
    {
      "cell_type": "markdown",
      "source": [
        "6) Write a Python program to get the Fibonacci series of given range"
      ],
      "metadata": {
        "id": "qDVDJUlydr0A"
      }
    },
    {
      "cell_type": "code",
      "source": [
        "def fibonacci_range (num_1, num_2):\n",
        "    a,b = 0,1\n",
        "    fibonacci_series = []\n",
        "    while a <= num_2:\n",
        "        if a >= num_1:\n",
        "            fibonacci_series.append(a)\n",
        "        a,b = b,a+b\n",
        "    return fibonacci_series\n",
        "\n",
        "num_1 = int(input(\"enter a start range\"))\n",
        "num_2 = int(input(\"enter a end range\"))\n",
        "fib_series = fibonacci_range(num_1,num_2)\n",
        "print(\"the fibonacci series of the range\",num_1, \"and\", num_2, \"is:\")\n",
        "print(fib_series)\n"
      ],
      "metadata": {
        "colab": {
          "base_uri": "https://localhost:8080/"
        },
        "id": "PiwL0u8NilLW",
        "outputId": "45762455-c48e-43f7-8714-983e109ca141"
      },
      "execution_count": 13,
      "outputs": [
        {
          "output_type": "stream",
          "name": "stdout",
          "text": [
            "enter a start range5\n",
            "enter a end range34\n",
            "the fibonacci series of the range 5 and 34 is:\n",
            "[5, 8, 13, 21, 34]\n"
          ]
        }
      ]
    },
    {
      "cell_type": "markdown",
      "source": [
        "7) How memory is managed in Python?\n",
        "\n",
        "Answer: In Python, memory management is handled automatically through several mechanisms:\n",
        "\n",
        "Garbage Collection: Python uses reference counting to keep track of objects and periodically runs a garbage collector to clean up unused objects, including those involved in reference cycles.\n",
        "\n",
        "Memory Allocation: Python employs memory pools for efficient allocation, using specialized allocators for small and large objects to reduce fragmentation.\n",
        "\n",
        "Object Interning: Immutable objects like small integers and strings are interned to save memory and improve performance by reusing existing objects.\n",
        "\n",
        "Memory Management Tools: The gc module allows manual control of garbage collection, and profiling tools help monitor and optimize memory usage.\n",
        "\n",
        "These techniques collectively ensure efficient memory use and automatic cleanup of unused resources."
      ],
      "metadata": {
        "id": "Jqs6wPLwlTCk"
      }
    },
    {
      "cell_type": "markdown",
      "source": [],
      "metadata": {
        "id": "ndtf-Fl2npNM"
      }
    },
    {
      "cell_type": "markdown",
      "source": [
        "8) What is the purpose continuing statement in python?\n",
        "\n",
        "Anwer: In Python, the continue statement is used inside loops (such as for and while loops) to skip the remaining code within the current iteration and immediately move to the next iteration of the loop. It is typically used to bypass specific conditions or to avoid executing certain code under particular circumstances.\n",
        "\n",
        "Purpose:\n",
        "\n",
        "Skip Code Execution: The continue statement allows you to skip executing certain parts of the loop's body based on a condition, thereby reducing the need for nested if statements.\n",
        "\n",
        "Improve Readability: It helps in writing cleaner and more readable code by allowing you to handle exceptional cases or conditions without deeply nesting logic."
      ],
      "metadata": {
        "id": "rDwEsTeEnBMs"
      }
    },
    {
      "cell_type": "code",
      "source": [],
      "metadata": {
        "id": "xRDhxYRom4Cd"
      },
      "execution_count": null,
      "outputs": []
    },
    {
      "cell_type": "markdown",
      "source": [
        "9) Write python program that swap two number with temp variable\n",
        "and without temp variable."
      ],
      "metadata": {
        "id": "w7PP3-98nn0b"
      }
    },
    {
      "cell_type": "code",
      "source": [
        "#swapping with temp variable\n",
        "a = int(input(\"enter first number: \"))\n",
        "b = int(input(\"enter second number: \"))\n",
        "temp = a\n",
        "a = b\n",
        "b = temp\n",
        "print(\"after swapping:\")\n",
        "print(\"first number\",a)\n",
        "print(\"second number\", b)"
      ],
      "metadata": {
        "colab": {
          "base_uri": "https://localhost:8080/"
        },
        "id": "83TsqzKorQv4",
        "outputId": "b8ab0c5d-4313-47c4-ee54-44c341a72615"
      },
      "execution_count": 18,
      "outputs": [
        {
          "output_type": "stream",
          "name": "stdout",
          "text": [
            "enter first number: 5\n",
            "enter second number: 7\n",
            "after swapping:\n",
            "first number 7\n",
            "second number 5\n"
          ]
        }
      ]
    },
    {
      "cell_type": "code",
      "source": [
        "#swapping without temp variable\n",
        "a = int(input(\"enter first number\"))\n",
        "b = int(input(\"enter second number\"))\n",
        "a = a + b\n",
        "b = a - b\n",
        "a = a - b\n",
        "print(\"after swapping:\")\n",
        "print(\"first number\", a )\n",
        "print(\"second number\", b)"
      ],
      "metadata": {
        "colab": {
          "base_uri": "https://localhost:8080/"
        },
        "id": "rSShgF2jr_KN",
        "outputId": "13b6ee28-7c64-459e-a984-d8d0e2d1bea4"
      },
      "execution_count": 16,
      "outputs": [
        {
          "output_type": "stream",
          "name": "stdout",
          "text": [
            "enter first number8\n",
            "enter second number10\n",
            "after swapping:\n",
            "first number 10\n",
            "second number 8\n"
          ]
        }
      ]
    },
    {
      "cell_type": "markdown",
      "source": [
        "10) Write a Python program to find whether a given number is even\n",
        "or odd, print out an appropriate message to the user."
      ],
      "metadata": {
        "id": "o8eTrOC-s5id"
      }
    },
    {
      "cell_type": "code",
      "source": [
        "number_num = int(input(\"enter a number: \"))\n",
        "if number_num % 2 == 0:\n",
        "  print(\"The given number is Even\")\n",
        "else:\n",
        "  print(\"The given number is Odd\")\n"
      ],
      "metadata": {
        "colab": {
          "base_uri": "https://localhost:8080/"
        },
        "id": "H4eUFlJ0s-v1",
        "outputId": "774ea20d-c8b8-4ab9-f13c-eb6431275f49"
      },
      "execution_count": 21,
      "outputs": [
        {
          "output_type": "stream",
          "name": "stdout",
          "text": [
            "enter a number: 72\n",
            "The given number is Even\n"
          ]
        }
      ]
    },
    {
      "cell_type": "markdown",
      "source": [
        "11) Write a Python program to test whether a passed letter is a vowel\n",
        "or not."
      ],
      "metadata": {
        "id": "oXK7brDStx3u"
      }
    },
    {
      "cell_type": "code",
      "source": [
        "letter_1 = input(\"Enter a letter: \")\n",
        "vowels_1 = ['a','e','i','o','u']\n",
        "if letter_1 in vowels_1:\n",
        "  print(\"The letter\", letter_1, \"is a vowel\")\n",
        "else:\n",
        "  print(\"The letter\", letter_1, \"is not a vowel\")\n",
        ""
      ],
      "metadata": {
        "colab": {
          "base_uri": "https://localhost:8080/"
        },
        "id": "DdihDMJWt2KQ",
        "outputId": "80d1d8d5-4e19-415d-9ed7-3c9eb4af3324"
      },
      "execution_count": 29,
      "outputs": [
        {
          "output_type": "stream",
          "name": "stdout",
          "text": [
            "Enter a letter: z\n",
            "The letter z is not a vowel\n"
          ]
        }
      ]
    },
    {
      "cell_type": "markdown",
      "source": [
        "12) Write a Python program to sum of three given integers. However, if\n",
        "two values are equal sum will be zero."
      ],
      "metadata": {
        "id": "unxh-0BVxmZc"
      }
    },
    {
      "cell_type": "code",
      "source": [
        "a = int(input(\"Enter first number: \"))\n",
        "b = int(input(\"Enter second number: \"))\n",
        "c = int(input(\"Enter third number: \"))\n",
        "d = a+b+c\n",
        "if a == b or b == c or a ==c:\n",
        "  print(\"The sum will be 0\")\n",
        "else:\n",
        "  print(\"The sum of given integers is :\", d)\n"
      ],
      "metadata": {
        "colab": {
          "base_uri": "https://localhost:8080/"
        },
        "id": "ufYoUzKCx4HZ",
        "outputId": "d54409ba-69eb-4b8c-d5d1-75f95b422fd5"
      },
      "execution_count": 33,
      "outputs": [
        {
          "output_type": "stream",
          "name": "stdout",
          "text": [
            "Enter first number: 5\n",
            "Enter second number: 8\n",
            "Enter third number: 5\n",
            "The sum will be 0\n"
          ]
        }
      ]
    },
    {
      "cell_type": "markdown",
      "source": [
        "13) Write a Python program that will return true if the two given\n",
        "integer values are equal or their sum or difference is 5."
      ],
      "metadata": {
        "id": "PJ_OwWYnzdJ2"
      }
    },
    {
      "cell_type": "code",
      "source": [
        "a = int(input(\"Enter first integer: \"))\n",
        "b = int(input(\"Enter second integer: \"))\n",
        "if a==b or a+b == 5 or a-b == 5:\n",
        "  print(\"True\")\n"
      ],
      "metadata": {
        "colab": {
          "base_uri": "https://localhost:8080/"
        },
        "id": "-BVKLWACzlgw",
        "outputId": "f0014d24-3b72-480d-f908-7b7b62a2cd5a"
      },
      "execution_count": 34,
      "outputs": [
        {
          "output_type": "stream",
          "name": "stdout",
          "text": [
            "Enter first integer: 35\n",
            "Enter second integer: 30\n",
            "True\n"
          ]
        }
      ]
    },
    {
      "cell_type": "markdown",
      "source": [
        "14) Write a python program to sum of the first n positive integers."
      ],
      "metadata": {
        "id": "BjAJFcUW0e6E"
      }
    },
    {
      "cell_type": "code",
      "source": [
        "n = int(input(\"enter a number: \"))\n",
        "sum_n = n * (n + 1) // 2\n",
        "print(\"The sum of first\", n, \"Positive integers is: \", sum_n)"
      ],
      "metadata": {
        "colab": {
          "base_uri": "https://localhost:8080/"
        },
        "id": "Pk2GUvsh0lhM",
        "outputId": "d123a834-94b3-40e9-cbeb-cc3bb6aa90d0"
      },
      "execution_count": 35,
      "outputs": [
        {
          "output_type": "stream",
          "name": "stdout",
          "text": [
            "enter a number: 20\n",
            "The sum of first 20 Positive integers is:  210\n"
          ]
        }
      ]
    },
    {
      "cell_type": "markdown",
      "source": [
        "15) Write a Python program to calculate the length of a string."
      ],
      "metadata": {
        "id": "41Ltc9T-90i6"
      }
    },
    {
      "cell_type": "code",
      "source": [
        "string = input(\"Enter a string: \")\n",
        "length = len(string)\n",
        "print(\"the length of the string is: \", length)"
      ],
      "metadata": {
        "colab": {
          "base_uri": "https://localhost:8080/"
        },
        "id": "N9KhGU1G94eU",
        "outputId": "93a740cf-3f94-42cb-aae9-47575a2b6f67"
      },
      "execution_count": 36,
      "outputs": [
        {
          "output_type": "stream",
          "name": "stdout",
          "text": [
            "Enter a string: Melvin\n",
            "the length of the string is:  6\n"
          ]
        }
      ]
    },
    {
      "cell_type": "markdown",
      "source": [
        "16) Write a Python program to count the number of characters\n",
        "(character frequency) in a string"
      ],
      "metadata": {
        "id": "97yPwAkb-3SK"
      }
    },
    {
      "cell_type": "code",
      "source": [
        "string = input(\"Enter a string\")\n",
        "all_freq = {}\n",
        "for i in string:\n",
        "    if i in all_freq:\n",
        "        all_freq[i] += 1\n",
        "    else:\n",
        "        all_freq[i] = 1\n",
        "print(\"Count of all characters in\",string, \"is: \\n \" + str(all_freq))\n"
      ],
      "metadata": {
        "colab": {
          "base_uri": "https://localhost:8080/"
        },
        "id": "7YHu_qa-_et3",
        "outputId": "05a76a47-553e-4364-f132-f4fe6e1139ee"
      },
      "execution_count": 38,
      "outputs": [
        {
          "output_type": "stream",
          "name": "stdout",
          "text": [
            "Enter a stringGame of Thrones\n",
            "Count of all characters in Game of Thrones is: \n",
            " {'G': 1, 'a': 1, 'm': 1, 'e': 2, ' ': 2, 'o': 2, 'f': 1, 'T': 1, 'h': 1, 'r': 1, 'n': 1, 's': 1}\n"
          ]
        }
      ]
    },
    {
      "cell_type": "markdown",
      "source": [
        "17) What are negative indexes and why are they used?\n",
        "\n",
        "Answer: In Python, negative indexes are used to access elements in a sequence (like lists, tuples, or strings) from the end rather than the beginning. They provide a convenient way to access elements relative to the end of the sequence.\n",
        "\n",
        "For Example:\n",
        "\n",
        "Index -1 refers to the last element of the sequence.\n",
        "\n",
        "Index -2 refers to the second-to-last element.\n",
        "\n",
        "Index -3 refers to the third-to-last element, and so on."
      ],
      "metadata": {
        "id": "BswnDGWhA2fm"
      }
    },
    {
      "cell_type": "markdown",
      "source": [
        "18) Write a Python program to count occurrences of a substring in a string."
      ],
      "metadata": {
        "id": "L56rTCq1Bb25"
      }
    },
    {
      "cell_type": "code",
      "source": [
        "string_1 = input(\"Enter a string: \")\n",
        "substring_1 = input(\"Enter a substring: \")\n",
        "count = string_1.count(substring_1)\n",
        "print(\"The word: \",\"'\", substring_1,\"'\",\"occurs\", count, \"times in the main string: \", string_1)"
      ],
      "metadata": {
        "colab": {
          "base_uri": "https://localhost:8080/"
        },
        "id": "yX1QIQ0ECCQN",
        "outputId": "de794186-4510-41c8-b7aa-749d80431319"
      },
      "execution_count": 42,
      "outputs": [
        {
          "output_type": "stream",
          "name": "stdout",
          "text": [
            "Enter a string: the kingdom of the planet of the apes\n",
            "Enter a substring: the\n",
            "The word:  ' the ' occurs 3 times in the main string:  the kingdom of the planet of the apes\n"
          ]
        }
      ]
    },
    {
      "cell_type": "markdown",
      "source": [
        "19) Write a Python program to count the occurrences of each word in a given sentence"
      ],
      "metadata": {
        "id": "yqgiroVEHT1D"
      }
    },
    {
      "cell_type": "code",
      "source": [
        "string_1 = input(\"Enter a string\")\n",
        "word = string_1.split()\n",
        "word_count = {}\n",
        "for word in word:\n",
        "    if word in word_count:\n",
        "        word_count[word] += 1\n",
        "    else:\n",
        "        word_count[word] = 1\n",
        "print(\"Word occurrences in the sentence:\")\n",
        "for word, count in word_count.items():\n",
        "    print(f\"'{word}': {count}\")"
      ],
      "metadata": {
        "colab": {
          "base_uri": "https://localhost:8080/"
        },
        "id": "Y0Byyo91IXgg",
        "outputId": "6856cfb4-288f-4469-c93d-3a3d3f39d55d"
      },
      "execution_count": 46,
      "outputs": [
        {
          "output_type": "stream",
          "name": "stdout",
          "text": [
            "Enter a stringthe kingdom of the planet of the apes\n",
            "Word occurrences in the sentence:\n",
            "'the': 3\n",
            "'kingdom': 1\n",
            "'of': 2\n",
            "'planet': 1\n",
            "'apes': 1\n"
          ]
        }
      ]
    },
    {
      "cell_type": "markdown",
      "source": [
        "20) Write a Python program to get a single string from two given strings,\n",
        "separated by a space and swap the first two characters of each string."
      ],
      "metadata": {
        "id": "Mke0Uj9yJJmR"
      }
    },
    {
      "cell_type": "code",
      "source": [
        "string_1 = input(\"Enter first string: \")\n",
        "string_2 = input(\"Enter second string: \")\n",
        "new_string_1 = string_2[0] + string_1[1:]\n",
        "new_string_2 = string_1[0] + string_2[1:]\n",
        "combined_string = new_string_1 + \" \" + new_string_2\n",
        "print(combined_string)"
      ],
      "metadata": {
        "colab": {
          "base_uri": "https://localhost:8080/"
        },
        "id": "33rlLgcfJXI8",
        "outputId": "56c0da72-c201-43bb-83fe-bbcb5f893a11"
      },
      "execution_count": 54,
      "outputs": [
        {
          "output_type": "stream",
          "name": "stdout",
          "text": [
            "Enter first string: Hello\n",
            "Enter second string: Melvin\n",
            "Mello Helvin\n"
          ]
        }
      ]
    },
    {
      "cell_type": "markdown",
      "source": [
        "21) Write a Python program to add 'in' at the end of a given string (length\n",
        "should be at least 3). If the given string already ends with 'ing' then\n",
        "add 'ly' instead if the string length of the given string is less than 3,\n",
        "leave it unchanged"
      ],
      "metadata": {
        "id": "zE5KoVMFMNNC"
      }
    },
    {
      "cell_type": "code",
      "source": [
        "\n",
        "def modify_string(s):\n",
        "    if len(s) < 3:\n",
        "        return s\n",
        "    elif s.endswith('ing'):\n",
        "        return s + 'ly'\n",
        "    else:\n",
        "        return s + 'in'\n",
        "input_string = input(\"Enter a string: \")\n",
        "result = modify_string(input_string)\n",
        "print(\"Modified string:\", result)\n"
      ],
      "metadata": {
        "colab": {
          "base_uri": "https://localhost:8080/"
        },
        "id": "BI42DGkp0lG1",
        "outputId": "7e225f75-fa5a-4805-8069-3d5d31c1c6d3"
      },
      "execution_count": 29,
      "outputs": [
        {
          "output_type": "stream",
          "name": "stdout",
          "text": [
            "Enter a string: running\n",
            "Modified string: runningly\n"
          ]
        }
      ]
    },
    {
      "cell_type": "markdown",
      "source": [
        "22) Write a Python function to reverses a string if its length is a multiple\n",
        "of 4."
      ],
      "metadata": {
        "id": "HaIG6PJkMhp8"
      }
    },
    {
      "cell_type": "code",
      "source": [
        "string = input(\"Enter a string: \")\n",
        "if len(string) % 4 == 0:\n",
        "  print(string[::-1])\n",
        "else:\n",
        "  print(string)"
      ],
      "metadata": {
        "colab": {
          "base_uri": "https://localhost:8080/"
        },
        "id": "YfCSgjp3Ng_2",
        "outputId": "fffe6c20-cb26-47c2-9c6c-a1c14a02ebdd"
      },
      "execution_count": 60,
      "outputs": [
        {
          "output_type": "stream",
          "name": "stdout",
          "text": [
            "Enter a string: abcdefgh\n",
            "hgfedcba\n"
          ]
        }
      ]
    },
    {
      "cell_type": "markdown",
      "source": [
        "23) Write a Python program to get a string made of the first 2 and the last\n",
        "2 chars from a given a string. If the string length is less than 2, return\n",
        "instead of the empty string."
      ],
      "metadata": {
        "id": "Fls-mxe-OIqu"
      }
    },
    {
      "cell_type": "code",
      "source": [
        "string_a = input(\"Enter a string: \")\n",
        "if len(string_a) > 2:\n",
        "  print(string_a[0:2] + string_a[-2:])\n",
        "else:\n",
        "  print(string_a)"
      ],
      "metadata": {
        "colab": {
          "base_uri": "https://localhost:8080/"
        },
        "id": "kFf7k_vCOSkU",
        "outputId": "5aceccb6-3cd6-44ed-f123-2a5631cac9d3"
      },
      "execution_count": 69,
      "outputs": [
        {
          "output_type": "stream",
          "name": "stdout",
          "text": [
            "Enter a string: abcdef\n",
            "abef\n"
          ]
        }
      ]
    },
    {
      "cell_type": "markdown",
      "source": [
        "24) Write a Python function to insert a string in the middle of a string."
      ],
      "metadata": {
        "id": "JLyZofzVQspt"
      }
    },
    {
      "cell_type": "code",
      "source": [
        "string_a = input(\"Enter a string: \")\n",
        "string_b = input(\"Enter a string: \")\n",
        "string_c = string_a[0:2]\n",
        "string_d = string_a[-2:]\n",
        "string_e = string_c + string_b + string_d\n",
        "print(string_e)"
      ],
      "metadata": {
        "colab": {
          "base_uri": "https://localhost:8080/"
        },
        "id": "FDsDlXCVTvCt",
        "outputId": "973fd7b2-4a86-485d-8291-42170408c300"
      },
      "execution_count": 77,
      "outputs": [
        {
          "output_type": "stream",
          "name": "stdout",
          "text": [
            "Enter a string: HALO\n",
            "Enter a string: EMY\n",
            "HAEMYLO\n"
          ]
        }
      ]
    },
    {
      "cell_type": "markdown",
      "source": [
        "25) What is List? How will you reverse a list?\n",
        "\n",
        "Answer:\n",
        "A list in Python is a collection data type that is ordered, changeable (mutable), and allows duplicate elements. Lists are used to store multiple items in a single variable. Lists are created using square brackets [] and can contain elements of different data types.\n",
        "\n",
        "There are several ways to reverse a list in Python:\n",
        "\n",
        "Using the reverse() Method:\n",
        "The reverse() method reverses the elements of the list in place.\n",
        "\n",
        "Using Slicing:\n",
        "You can use slicing to create a reversed copy of the list.\n",
        "\n",
        "Using the reversed() Function:\n",
        "The reversed() function returns an iterator that accesses the given sequence in the reverse order.\n",
        "\n",
        "Summary:\n",
        "\n",
        "List: An ordered, mutable collection of items.\n",
        "\n",
        "Reversing a List: Can be done using reverse() method (in place), slicing ([::-1]), or reversed() function (returns an iterator).\n",
        "Each method has its use case, with reverse() modifying the list in place, while slicing and reversed() provide reversed copies of the list."
      ],
      "metadata": {
        "id": "R1fPIzoRnkvh"
      }
    },
    {
      "cell_type": "markdown",
      "source": [
        "26) How will you remove last object from a list?\n",
        "\n",
        "Answer: To remove the last object from a list in Python, you can use several methods. Here are the most common ways to do it:\n",
        "\n",
        "Using the pop() Method:\n",
        "The pop() method removes and returns the last item in the list. This is the most common and straightforward method.\n",
        "\n",
        "Using Slicing:\n",
        "You can use slicing to create a new list without the last element."
      ],
      "metadata": {
        "id": "XpKMkKMCoyuK"
      }
    },
    {
      "cell_type": "markdown",
      "source": [
        "27) Suppose list1 is [2, 33, 222, 14, and 25], what is list1 [-\n",
        "1]?\n",
        "\n",
        "Answer: 25"
      ],
      "metadata": {
        "id": "NbQlZUHypM59"
      }
    },
    {
      "cell_type": "code",
      "source": [
        "list1 = [2,33,222,14,25]\n",
        "print(list1[-1])"
      ],
      "metadata": {
        "colab": {
          "base_uri": "https://localhost:8080/"
        },
        "id": "gbSMZXMipdUA",
        "outputId": "40770ffc-228b-4117-97fd-744fdfd01624"
      },
      "execution_count": 78,
      "outputs": [
        {
          "output_type": "stream",
          "name": "stdout",
          "text": [
            "25\n"
          ]
        }
      ]
    },
    {
      "cell_type": "markdown",
      "source": [
        "28) Differentiate between append () and extend () methods?\n",
        "\n",
        "Answer:\n",
        "The append() and extend() methods in Python are used to add elements to a list, but they work differently and have distinct use cases. Here's a detailed differentiation between the two:\n",
        "\n",
        "**append() Method**\n",
        "Functionality: Adds a single element to the end of the list.\n",
        "\n",
        "Usage: list.append(element)\n",
        "\n",
        "Parameters: Takes one argument, which is the element to be added to the list.\n",
        "\n",
        "Effect on List: The entire element (regardless of its type) is appended as a single item at the end of the list.\n",
        "\n",
        "**extend() Method**\n",
        "Functionality: Adds each element of an iterable (e.g., another list, tuple, string) to the end of the list.\n",
        "\n",
        "Usage: list.extend(iterable)\n",
        "\n",
        "Parameters: Takes one argument, which is an iterable whose elements are to be added to the list.\n",
        "\n",
        "Effect on List: Each element of the iterable is added as individual elements at the end of the list.\n",
        "\n",
        "#Example for append method:\n",
        "\n",
        "1. Creating a list\n",
        "my_list = [1, 2, 3]\n",
        "\n",
        "2. Appending an element\n",
        "my_list.append(4)\n",
        "\n",
        "3. Output the modified list\n",
        "print(my_list)  # Output: [1, 2, 3, 4]\n",
        "\n",
        "4. Appending another list\n",
        "my_list.append([5, 6])\n",
        "\n",
        "5. Output the modified list\n",
        "print(my_list)  # Output: [1, 2, 3, 4, [5, 6]]\n",
        "\n",
        "\n",
        "#Example for extend method:\n",
        "\n",
        "1. Creating a list\n",
        "my_list = [1, 2, 3]\n",
        "\n",
        "2. Extending with another list\n",
        "my_list.extend([4, 5, 6])\n",
        "\n",
        "3. Output the modified list\n",
        "print(my_list)  # Output: [1, 2, 3, 4, 5, 6]\n",
        "\n",
        "4. Extending with a string (iterable)\n",
        "my_list.extend(\"abc\")\n",
        "\n",
        "5. Output the modified list\n",
        "print(my_list)  # Output: [1, 2, 3, 4, 5, 6, 'a', 'b', 'c']\n"
      ],
      "metadata": {
        "id": "tsa0Xdf9pn3D"
      }
    },
    {
      "cell_type": "markdown",
      "source": [],
      "metadata": {
        "id": "d05LJFv3m4sr"
      }
    },
    {
      "cell_type": "markdown",
      "source": [
        "29) Write a Python function to get the largest number, smallest num\n",
        "and sum of all from a list."
      ],
      "metadata": {
        "id": "wVgczUZWrt9y"
      }
    },
    {
      "cell_type": "code",
      "source": [
        "list_alpha = [10,25,52,85,96,102,158,162,200,256,258]\n",
        "largest_num = max(list_alpha)\n",
        "smallest_num = min(list_alpha)\n",
        "sum_num = sum(list_alpha)\n",
        "print(\"The largest number is: \", largest_num)\n",
        "print(\"The smallest number is: \", smallest_num)\n",
        "print(\"The sum of numbers is: \", sum_num)"
      ],
      "metadata": {
        "colab": {
          "base_uri": "https://localhost:8080/"
        },
        "id": "cd5KAM4JqoQ_",
        "outputId": "67472e10-146c-44be-af87-c0bd06e51240"
      },
      "execution_count": 79,
      "outputs": [
        {
          "output_type": "stream",
          "name": "stdout",
          "text": [
            "The largest number is:  258\n",
            "The smallest number is:  10\n",
            "The sum of numbers is:  1404\n"
          ]
        }
      ]
    },
    {
      "cell_type": "markdown",
      "source": [
        "30) How will you compare two lists?\n",
        "\n",
        "Answer:In Python, you can compare two lists to check if they are equal (i.e., if they contain the same elements in the same order). There are several ways to do this:\n",
        "\n",
        "Using the == Operator\n",
        "\n",
        "The simplest way to compare two lists is by using the == operator. This operator checks if the corresponding elements of both lists are the same and in the same order.\n",
        "\n",
        "\n",
        "Using the set Data Structure\n",
        "\n",
        "If you want to compare two lists to check if they contain the same elements, regardless of order, you can convert them to sets and compare the sets. Note that this will not consider duplicate elements.\n",
        "\n",
        "Using Sorting\n",
        "\n",
        "You can sort both lists and then compare them using the == operator. This method checks if the lists contain the same elements, taking into account duplicates.\n",
        "\n",
        "\n",
        "Using a Loop (Element-wise Comparison)\n",
        "\n",
        "You can manually compare each element of the lists in a loop. This method gives more control over the comparison process and can be used to provide detailed feedback if the lists differ.\n",
        "\n",
        "Summary\n",
        "\n",
        "Using == Operator: Checks if lists are equal element-wise and in order.\n",
        "\n",
        "Using set: Checks if lists contain the same unique elements, regardless of order.\n",
        "\n",
        "Using Sorting: Checks if lists contain the same elements, considering duplicates but ignoring order.\n",
        "\n",
        "Using a Loop: Provides a custom comparison approach, useful for detailed feedback.\n",
        "\n"
      ],
      "metadata": {
        "id": "6wArlZMas_Di"
      }
    },
    {
      "cell_type": "code",
      "source": [],
      "metadata": {
        "id": "nn1ziPlWs5Sm"
      },
      "execution_count": null,
      "outputs": []
    },
    {
      "cell_type": "markdown",
      "source": [
        "31) Write a Python program to count the number of strings where the string\n",
        "length is 2 or more and the first and last character are same from a given list\n",
        "of strings."
      ],
      "metadata": {
        "id": "8N10yQ0Ct85C"
      }
    },
    {
      "cell_type": "code",
      "source": [
        "\n",
        "def count_strings_with_conditions(strings):\n",
        "    count = 0\n",
        "    for string in strings:\n",
        "        if len(string) >= 2 and string[0] == string[-1]:\n",
        "            count += 1\n",
        "    return count\n",
        "\n",
        "\n",
        "strings_list = ['abc', 'xyz', 'aba', '1221', 'ab']\n",
        "\n",
        "\n",
        "result = count_strings_with_conditions(strings_list)\n",
        "print(\"Number of strings meeting the criteria:\", result)\n"
      ],
      "metadata": {
        "colab": {
          "base_uri": "https://localhost:8080/"
        },
        "id": "CLFk52RruimE",
        "outputId": "c7a43841-315a-49b7-eb2d-b2c3c048682f"
      },
      "execution_count": 80,
      "outputs": [
        {
          "output_type": "stream",
          "name": "stdout",
          "text": [
            "Number of strings meeting the criteria: 2\n"
          ]
        }
      ]
    },
    {
      "cell_type": "markdown",
      "source": [
        "32) Write a Python program to remove duplicates from a list."
      ],
      "metadata": {
        "id": "gBwiqkPivd-a"
      }
    },
    {
      "cell_type": "code",
      "source": [
        "my_list1 = [1,1,2,2,3,3,3,3,4,4,4,5,6,6,7,8,8,9,9,9]\n",
        "# Remove duplicates by converting to a set and back to a list\n",
        "my_list1_new = list(set(my_list1))\n",
        "print(my_list1_new)"
      ],
      "metadata": {
        "colab": {
          "base_uri": "https://localhost:8080/"
        },
        "id": "y2FNIeq1Vx_E",
        "outputId": "eb1e3877-1349-4e12-c4bf-d854936eab86"
      },
      "execution_count": 1,
      "outputs": [
        {
          "output_type": "stream",
          "name": "stdout",
          "text": [
            "[1, 2, 3, 4, 5, 6, 7, 8, 9]\n"
          ]
        }
      ]
    },
    {
      "cell_type": "markdown",
      "source": [
        "33) Write a Python program to check a list is empty or not."
      ],
      "metadata": {
        "id": "TjbW9f3zWSwS"
      }
    },
    {
      "cell_type": "code",
      "source": [
        "list_1 = ['a',1,'d',6]\n",
        "list_2 = []\n",
        "if not list_1:\n",
        "  print(\"List one is empty\")\n",
        "else:\n",
        "  print(\"List one is not empty\")\n",
        "\n",
        "#second list\n",
        "if not list_2:\n",
        "  print(\"List two is empty\")\n",
        "else:\n",
        "  print(\"List two is not empty\")"
      ],
      "metadata": {
        "colab": {
          "base_uri": "https://localhost:8080/"
        },
        "id": "e8sugYsmuKiA",
        "outputId": "20eee088-52e1-4506-ffa6-d4df87eef8b2"
      },
      "execution_count": 3,
      "outputs": [
        {
          "output_type": "stream",
          "name": "stdout",
          "text": [
            "List one is not empty\n",
            "List two is empty\n"
          ]
        }
      ]
    },
    {
      "cell_type": "markdown",
      "source": [
        "34) Write a Python function that takes two lists and returns true if they\n",
        "have at least one common member."
      ],
      "metadata": {
        "id": "g7k4R0D1YcbL"
      }
    },
    {
      "cell_type": "code",
      "source": [
        "list_charlie =[1,2,3,4,5,6,7]\n",
        "list_tango = [5,6,7,8,9,10]\n",
        "#converting list into set\n",
        "set_charlie = set(list_charlie)\n",
        "set_tango = set(list_tango)\n",
        "common_set = set_charlie.intersection(set_tango)\n",
        "if common_set:\n",
        "  print(\"True\")\n",
        "else:\n",
        "  print(\"False\")"
      ],
      "metadata": {
        "colab": {
          "base_uri": "https://localhost:8080/"
        },
        "id": "e4BRbr-nYiFT",
        "outputId": "c70880b6-4d47-465e-988c-230f8d276337"
      },
      "execution_count": 4,
      "outputs": [
        {
          "output_type": "stream",
          "name": "stdout",
          "text": [
            "True\n"
          ]
        }
      ]
    },
    {
      "cell_type": "code",
      "source": [],
      "metadata": {
        "id": "Y3rGMzUbuJpF"
      },
      "execution_count": null,
      "outputs": []
    },
    {
      "cell_type": "markdown",
      "source": [
        "35) Write a Python program to generate and print a list of first and last 5\n",
        "elements where the values are square of numbers between 1 and 30."
      ],
      "metadata": {
        "id": "kcO4sVzybNg-"
      }
    },
    {
      "cell_type": "code",
      "source": [
        "import math\n",
        "squares_of_Numbers = [math.pow(i,2) for i in range (1,31)]\n",
        "first_5_squares = squares_of_Numbers[0:5]\n",
        "last_5_squares = squares_of_Numbers[-5:]\n",
        "list_of_squares = first_5_squares + last_5_squares\n",
        "print(first_5_squares)\n",
        "print(last_5_squares)\n",
        "print(list_of_squares)"
      ],
      "metadata": {
        "colab": {
          "base_uri": "https://localhost:8080/"
        },
        "id": "gZZJXMZvbOTa",
        "outputId": "702c77db-4ca8-4c20-d4ae-b9f577d791b5"
      },
      "execution_count": 13,
      "outputs": [
        {
          "output_type": "stream",
          "name": "stdout",
          "text": [
            "[1.0, 4.0, 9.0, 16.0, 25.0]\n",
            "[676.0, 729.0, 784.0, 841.0, 900.0]\n",
            "[1.0, 4.0, 9.0, 16.0, 25.0, 676.0, 729.0, 784.0, 841.0, 900.0]\n"
          ]
        }
      ]
    },
    {
      "cell_type": "code",
      "source": [],
      "metadata": {
        "id": "UsUpBtSyd_Pu"
      },
      "execution_count": null,
      "outputs": []
    },
    {
      "cell_type": "markdown",
      "source": [
        "36) Write a Python function that takes a list and returns a new list with\n",
        "unique elements of the first list."
      ],
      "metadata": {
        "id": "9yQGtVDGfsTv"
      }
    },
    {
      "cell_type": "code",
      "source": [
        "list_1 = [1,1,2,3,3,3,4,4,5]\n",
        "new_list_1 = list(set(list_1))\n",
        "print(\"list with unique elements: \",new_list_1)"
      ],
      "metadata": {
        "colab": {
          "base_uri": "https://localhost:8080/"
        },
        "id": "U2bY-lyafs9m",
        "outputId": "b009fd90-4a09-4a5a-b047-8a76a06d28fa"
      },
      "execution_count": 15,
      "outputs": [
        {
          "output_type": "stream",
          "name": "stdout",
          "text": [
            "list with unique elements:  [1, 2, 3, 4, 5]\n"
          ]
        }
      ]
    },
    {
      "cell_type": "code",
      "source": [],
      "metadata": {
        "id": "2tQwVacKhYnS"
      },
      "execution_count": null,
      "outputs": []
    },
    {
      "cell_type": "markdown",
      "source": [
        "37) Write a Python program to convert a list of characters into a string"
      ],
      "metadata": {
        "id": "RckqcdtqhlEj"
      }
    },
    {
      "cell_type": "code",
      "source": [
        "list_mine = ['m', 'e', 'l', 'v', 'i', 'n', 'm', 'a', 't', 'h', 'a', 'i']\n",
        "string_convert = ''.join(list_mine)\n",
        "print(\"the converted string is as follows: \",string_convert )\n"
      ],
      "metadata": {
        "colab": {
          "base_uri": "https://localhost:8080/"
        },
        "id": "llmiteeIhpOX",
        "outputId": "f362f2d1-6169-4241-d032-d34e48375970"
      },
      "execution_count": 16,
      "outputs": [
        {
          "output_type": "stream",
          "name": "stdout",
          "text": [
            "the converted string is as follows:  melvinmathai\n"
          ]
        }
      ]
    },
    {
      "cell_type": "code",
      "source": [],
      "metadata": {
        "id": "aKhBNwy3i-BU"
      },
      "execution_count": null,
      "outputs": []
    },
    {
      "cell_type": "markdown",
      "source": [
        "38) Write a Python program to select an item randomly from a list."
      ],
      "metadata": {
        "id": "m12HATT1jHkh"
      }
    },
    {
      "cell_type": "code",
      "source": [
        "import random\n",
        "list_Madrid = ['Vini', 'Lucas', 'joselu', 'guller', 'mbappe', 'alaba']\n",
        "random_madrid = random.choice(list_Madrid)\n",
        "print(random_madrid)"
      ],
      "metadata": {
        "colab": {
          "base_uri": "https://localhost:8080/"
        },
        "id": "r03bi2E0jIJG",
        "outputId": "e36f17eb-cfbf-4421-d465-b021fd7f4c47"
      },
      "execution_count": 17,
      "outputs": [
        {
          "output_type": "stream",
          "name": "stdout",
          "text": [
            "Lucas\n"
          ]
        }
      ]
    },
    {
      "cell_type": "code",
      "source": [],
      "metadata": {
        "id": "5Ea1t5JTjuCe"
      },
      "execution_count": null,
      "outputs": []
    },
    {
      "cell_type": "markdown",
      "source": [
        "39) Write a Python program to find the second smallest number in a list."
      ],
      "metadata": {
        "id": "UH4poX6vjvpi"
      }
    },
    {
      "cell_type": "code",
      "source": [
        "list_RM = [5,7,8,9,6,4,11,15,17,19,1,3]\n",
        "sorted_list_RM = sorted(list_RM)\n",
        "print(sorted_list_RM)\n",
        "smallest_list_RM = sorted_list_RM[1]\n",
        "print(\"the second smallest number in the list is: \", smallest_list_RM)"
      ],
      "metadata": {
        "colab": {
          "base_uri": "https://localhost:8080/"
        },
        "id": "nPDFpk6ZjzQL",
        "outputId": "4fc2797b-f33e-404c-f148-dfeed99d5137"
      },
      "execution_count": 19,
      "outputs": [
        {
          "output_type": "stream",
          "name": "stdout",
          "text": [
            "[1, 3, 4, 5, 6, 7, 8, 9, 11, 15, 17, 19]\n",
            "the second smallest number in the list is:  3\n"
          ]
        }
      ]
    },
    {
      "cell_type": "markdown",
      "source": [
        "40) Write a Python program to get unique values from a list"
      ],
      "metadata": {
        "id": "ckM8S25KmjMV"
      }
    },
    {
      "cell_type": "code",
      "source": [
        "list_1 = [1,1,2,3,3,3,4,4,5]\n",
        "new_list_1 = list(set(list_1))\n",
        "print(\"list with unique values: \",new_list_1)"
      ],
      "metadata": {
        "colab": {
          "base_uri": "https://localhost:8080/"
        },
        "id": "YZ4LbRQvmJiQ",
        "outputId": "a56f7b97-9f58-4589-fe2f-9d9389d98647"
      },
      "execution_count": 20,
      "outputs": [
        {
          "output_type": "stream",
          "name": "stdout",
          "text": [
            "list with unique values:  [1, 2, 3, 4, 5]\n"
          ]
        }
      ]
    },
    {
      "cell_type": "code",
      "source": [],
      "metadata": {
        "id": "GZ9gLUocm1b2"
      },
      "execution_count": null,
      "outputs": []
    },
    {
      "cell_type": "markdown",
      "source": [
        "41) Write a Python program to check whether a list contains a sub list"
      ],
      "metadata": {
        "id": "mgRygsy-nVLg"
      }
    },
    {
      "cell_type": "code",
      "source": [
        "\n",
        "main_list = [1, 2, 3, 4, 5, 6]\n",
        "sub_list = [3, 4]\n",
        "\n",
        "\n",
        "sub_len = len(sub_list)\n",
        "main_len = len(main_list)\n",
        "\n",
        "\n",
        "contains = False\n",
        "\n",
        "\n",
        "for i in range(main_len - sub_len + 1):\n",
        "    if main_list[i:i + sub_len] == sub_list:\n",
        "        contains = True\n",
        "        break\n",
        "\n",
        "\n",
        "print(\"Does the main list contain the sublist?\", contains)\n"
      ],
      "metadata": {
        "colab": {
          "base_uri": "https://localhost:8080/"
        },
        "id": "Wz6Nl2fPnVyX",
        "outputId": "3b5574f0-4c8d-4312-fe59-43630f248a0a"
      },
      "execution_count": 21,
      "outputs": [
        {
          "output_type": "stream",
          "name": "stdout",
          "text": [
            "Does the main list contain the sublist? True\n"
          ]
        }
      ]
    },
    {
      "cell_type": "code",
      "source": [],
      "metadata": {
        "id": "bdD-OErzsXjt"
      },
      "execution_count": null,
      "outputs": []
    },
    {
      "cell_type": "markdown",
      "source": [
        "42) Write a Python program to split a list into different variables."
      ],
      "metadata": {
        "id": "4iXBDOoisdIa"
      }
    },
    {
      "cell_type": "code",
      "source": [
        "\n",
        "my_list = [10, 20, 30, 40, 50]\n",
        "\n",
        "var1, var2, var3, var4, var5 = my_list\n",
        "\n",
        "print(\"Variable 1:\", var1)\n",
        "print(\"Variable 2:\", var2)\n",
        "print(\"Variable 3:\", var3)\n",
        "print(\"Variable 4:\", var4)\n",
        "print(\"Variable 5:\", var5)\n"
      ],
      "metadata": {
        "colab": {
          "base_uri": "https://localhost:8080/"
        },
        "id": "nJYdeORf0Aga",
        "outputId": "70a04039-cde1-4019-cccb-ae7536b7baa4"
      },
      "execution_count": 28,
      "outputs": [
        {
          "output_type": "stream",
          "name": "stdout",
          "text": [
            "Variable 1: 10\n",
            "Variable 2: 20\n",
            "Variable 3: 30\n",
            "Variable 4: 40\n",
            "Variable 5: 50\n"
          ]
        }
      ]
    },
    {
      "cell_type": "markdown",
      "source": [
        "43) What is tuple? Difference between list and tuple\n",
        "\n",
        "Answer: In Python, a tuple is an immutable sequence of elements, typically used to group related data. Tuples are similar to lists, but the key difference is that tuples cannot be modified (i.e., they are immutable). Tuples are defined by placing the elements inside parentheses () and separated by commas.\n",
        "\n",
        "Difference Between List and Tuple\n",
        "\n",
        "1. Mutability:\n",
        "\n",
        "List: Lists are mutable, meaning you can change, add, or remove elements after the list is created.\n",
        "\n",
        "Tuple: Tuples are immutable, meaning once they are created, their elements cannot be changed, added, or removed.\n",
        "\n",
        ". Syntax:\n",
        "\n",
        "List: Lists are defined using square brackets [].\n",
        "\n",
        "Tuple: Tuples are defined using parentheses ().\n",
        "\n",
        "3. Use Cases:\n",
        "\n",
        "List: Lists are used when you need a collection of items that can be modified throughout the program.\n",
        "\n",
        "Tuple: Tuples are used when you need a collection of items that should not be changed. They are often used for fixed collections of items and can be used as keys in dictionaries (because they are hashable).\n",
        "\n",
        "4. Performance:\n",
        "\n",
        "List: Lists have more overhead because of their mutability, so they are slightly slower compared to tuples.\n",
        "\n",
        "Tuple: Tuples are generally faster than lists because they are immutable and have less overhead.\n",
        "\n",
        "5. Methods:\n",
        "\n",
        "List: Lists have more built-in methods, such as append(), remove(), pop(), etc.\n",
        "\n",
        "Tuple: Tuples have fewer built-in methods. They only have count() and index()\n",
        "\n",
        "Summary:\n",
        "\n",
        "Lists: Mutable, defined with [], have more methods, slightly slower due to mutability, used for collections that need to change.\n",
        "\n",
        "Tuples: Immutable, defined with (), fewer methods, faster due to immutability, used for fixed collections of items and can be dictionary keys."
      ],
      "metadata": {
        "id": "K021s9LVtv6r"
      }
    },
    {
      "cell_type": "code",
      "source": [],
      "metadata": {
        "id": "D7cbERgesdou"
      },
      "execution_count": null,
      "outputs": []
    },
    {
      "cell_type": "markdown",
      "source": [
        "44) Write a Python program to create a tuple with different data types."
      ],
      "metadata": {
        "id": "fVPTJIHfveUk"
      }
    },
    {
      "cell_type": "code",
      "source": [
        "\n",
        "my_tuple = (1, 3.14, \"Hello\", [1, 2, 3], (4, 5, 6))\n",
        "print(\"Tuple with different data types:\", my_tuple)\n",
        "for element in my_tuple:\n",
        "    print(f\"Element: {element}, Type: {type(element)}\")\n"
      ],
      "metadata": {
        "colab": {
          "base_uri": "https://localhost:8080/"
        },
        "id": "Iwdm3mZ8viAw",
        "outputId": "92ec97da-e6ee-445b-b86d-6c84f9cfd867"
      },
      "execution_count": 22,
      "outputs": [
        {
          "output_type": "stream",
          "name": "stdout",
          "text": [
            "Tuple with different data types: (1, 3.14, 'Hello', [1, 2, 3], (4, 5, 6))\n",
            "Element: 1, Type: <class 'int'>\n",
            "Element: 3.14, Type: <class 'float'>\n",
            "Element: Hello, Type: <class 'str'>\n",
            "Element: [1, 2, 3], Type: <class 'list'>\n",
            "Element: (4, 5, 6), Type: <class 'tuple'>\n"
          ]
        }
      ]
    },
    {
      "cell_type": "code",
      "source": [],
      "metadata": {
        "id": "Rz95qyolvy2g"
      },
      "execution_count": null,
      "outputs": []
    },
    {
      "cell_type": "markdown",
      "source": [
        "45) Write a Python program to unzip a list of tuples into individual lists"
      ],
      "metadata": {
        "id": "4BEW-bk4v4Rr"
      }
    },
    {
      "cell_type": "code",
      "source": [
        "\n",
        "list_of_tuples = [(1, 'a'), (2, 'b'), (3, 'c'), (4, 'd')]\n",
        "list1, list2 = zip(*list_of_tuples)\n",
        "list1 = list(list1)\n",
        "list2 = list(list2)\n",
        "print(\"List 1:\", list1)\n",
        "print(\"List 2:\", list2)\n"
      ],
      "metadata": {
        "colab": {
          "base_uri": "https://localhost:8080/"
        },
        "id": "whhmN1rXv8tC",
        "outputId": "6c4ae2b2-3a58-4dda-e6fb-ce628158418c"
      },
      "execution_count": 23,
      "outputs": [
        {
          "output_type": "stream",
          "name": "stdout",
          "text": [
            "List 1: [1, 2, 3, 4]\n",
            "List 2: ['a', 'b', 'c', 'd']\n"
          ]
        }
      ]
    },
    {
      "cell_type": "code",
      "source": [],
      "metadata": {
        "id": "ipVPt2_4wPB5"
      },
      "execution_count": null,
      "outputs": []
    },
    {
      "cell_type": "markdown",
      "source": [
        "46) Write a Python program to convert a list of tuples into a dictionary"
      ],
      "metadata": {
        "id": "PPC54hWCwRQ1"
      }
    },
    {
      "cell_type": "code",
      "source": [
        "list_of_tuples = [(\"apple\", 1), (\"banana\", 2), (\"cherry\", 3), (\"mango\", 4), (\"kiwi\", 5)]\n",
        "dictionary = dict(list_of_tuples)\n",
        "print(\"Dictionary:\", dictionary)"
      ],
      "metadata": {
        "colab": {
          "base_uri": "https://localhost:8080/"
        },
        "id": "4h_B29gMxGTC",
        "outputId": "3274ccaa-2a19-4b5f-e371-7ef794a3edc7"
      },
      "execution_count": 25,
      "outputs": [
        {
          "output_type": "stream",
          "name": "stdout",
          "text": [
            "Dictionary: {'apple': 1, 'banana': 2, 'cherry': 3, 'mango': 4, 'kiwi': 5}\n"
          ]
        }
      ]
    },
    {
      "cell_type": "code",
      "source": [],
      "metadata": {
        "id": "C7ELJ4_PwVX2"
      },
      "execution_count": null,
      "outputs": []
    },
    {
      "cell_type": "markdown",
      "source": [
        "47) How will you create a dictionary using tuples in python?\n",
        "\n",
        "Answer:\n",
        "\n",
        "Creating a dictionary using tuples in Python is straightforward. Typically, you will use a list of tuples where each tuple contains exactly two elements: the first element as the key and the second element as the value. You can then convert this list of tuples into a dictionary using the dict() constructor\n",
        "\n"
      ],
      "metadata": {
        "id": "_W4sOw6Mw4mj"
      }
    },
    {
      "cell_type": "code",
      "source": [],
      "metadata": {
        "id": "WuvWNk9lxgEq"
      },
      "execution_count": null,
      "outputs": []
    },
    {
      "cell_type": "markdown",
      "source": [
        "48) Write a Python script to sort (ascending and descending) a\n",
        "dictionary by value\n",
        "."
      ],
      "metadata": {
        "id": "p59gRTKYxkt6"
      }
    },
    {
      "cell_type": "code",
      "source": [
        "\n",
        "my_dict = {'apple': 5, 'banana': 2, 'cherry': 7, 'date': 3}\n",
        "\n",
        "sorted_dict_asc = dict(sorted(my_dict.items(), key=lambda item: item[1]))\n",
        "\n",
        "sorted_dict_desc = dict(sorted(my_dict.items(), key=lambda item: item[1], reverse=True))\n",
        "\n",
        "print(\"Dictionary sorted by value (ascending):\", sorted_dict_asc)\n",
        "print(\"Dictionary sorted by value (descending):\", sorted_dict_desc)\n"
      ],
      "metadata": {
        "colab": {
          "base_uri": "https://localhost:8080/"
        },
        "id": "c3-BDaWCxlzl",
        "outputId": "e2dfd0fa-3b41-40ca-eef2-6aa714efe94f"
      },
      "execution_count": 26,
      "outputs": [
        {
          "output_type": "stream",
          "name": "stdout",
          "text": [
            "Dictionary sorted by value (ascending): {'banana': 2, 'date': 3, 'apple': 5, 'cherry': 7}\n",
            "Dictionary sorted by value (descending): {'cherry': 7, 'apple': 5, 'date': 3, 'banana': 2}\n"
          ]
        }
      ]
    },
    {
      "cell_type": "code",
      "source": [],
      "metadata": {
        "id": "AgG6FCdJySw9"
      },
      "execution_count": null,
      "outputs": []
    },
    {
      "cell_type": "markdown",
      "source": [
        "49) Write a Python script to check if a given key already exists in a\n",
        "dictionary."
      ],
      "metadata": {
        "id": "FvDTfxQIyXth"
      }
    },
    {
      "cell_type": "code",
      "source": [
        "\n",
        "my_dict = {'apple': 5, 'banana': 2, 'cherry': 7, 'date': 3}\n",
        "\n",
        "def key_exists(dictionary, key):\n",
        "    return key in dictionary\n",
        "\n",
        "key_to_check = input(\"Enter the key to check: \")\n",
        "\n",
        "if key_exists(my_dict, key_to_check):\n",
        "    print(f\"The key '{key_to_check}' exists in the dictionary.\")\n",
        "else:\n",
        "    print(f\"The key '{key_to_check}' does not exist in the dictionary.\")\n"
      ],
      "metadata": {
        "colab": {
          "base_uri": "https://localhost:8080/"
        },
        "id": "FtnB8bviylfp",
        "outputId": "2ecf938e-c579-4c22-d685-008f091beb91"
      },
      "execution_count": 27,
      "outputs": [
        {
          "output_type": "stream",
          "name": "stdout",
          "text": [
            "Enter the key to check: 4\n",
            "The key '4' does not exist in the dictionary.\n"
          ]
        }
      ]
    },
    {
      "cell_type": "code",
      "source": [],
      "metadata": {
        "id": "jPLB_Ad0y07K"
      },
      "execution_count": null,
      "outputs": []
    },
    {
      "cell_type": "markdown",
      "source": [
        "50) How Do You Traverse Through a Dictionary Object in Python?\n",
        "\n",
        "Answer:\n",
        "\n",
        "To traverse through a dictionary object in Python, you can iterate over its keys, values, or key-value pairs. Here are some common methods to do this:\n",
        "\n",
        "1. Traverse Through Keys\n",
        "\n",
        "You can loop through the dictionary's keys using a for loop. By default, iterating over a dictionary will give you its keys.\n",
        "\n",
        "2. Traverse Through Values\n",
        "\n",
        "You can loop through the dictionary's values using the .values() method.\n",
        "\n",
        "3. Traverse Through Key-Value Pairs\n",
        "\n",
        "You can loop through both the keys and values using the .items() method, which returns a view object that displays a list of a dictionary's key-value tuple pairs."
      ],
      "metadata": {
        "id": "5Psyb1fwy8tz"
      }
    },
    {
      "cell_type": "code",
      "source": [],
      "metadata": {
        "id": "xftqW-VYzWKR"
      },
      "execution_count": null,
      "outputs": []
    },
    {
      "cell_type": "markdown",
      "source": [
        "51) How Do You Check the Presence of a Key in A Dictionary?\n",
        "\n",
        "Answer:\n",
        "\n",
        "To check the presence of a key in a dictionary in Python, you can use several methods:\n",
        "\n",
        "1. Using the in Operator\n",
        "\n",
        "The in operator is the most common and straightforward way to check if a key exists in a dictionary.\n",
        "\n",
        "2. Using the .get() Method\n",
        "\n",
        "The .get() method returns the value for the given key if it exists in the dictionary. If the key does not exist, it returns None or a specified default value.\n",
        "\n",
        "3. Using the .keys() Method\n",
        "\n",
        "You can use the .keys() method to get a view of the dictionary’s keys and then check if the key is in this view.\n",
        "\n"
      ],
      "metadata": {
        "id": "mxevTRmRzmSk"
      }
    },
    {
      "cell_type": "code",
      "source": [],
      "metadata": {
        "id": "kGBR9zxDz1wp"
      },
      "execution_count": null,
      "outputs": []
    }
  ]
}